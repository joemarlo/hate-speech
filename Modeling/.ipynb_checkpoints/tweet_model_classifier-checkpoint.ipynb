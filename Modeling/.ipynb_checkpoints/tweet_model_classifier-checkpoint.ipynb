{
 "cells": [
  {
   "cell_type": "markdown",
   "metadata": {},
   "source": [
    "# Building Classifier to Label Tweets as hate/non-hate"
   ]
  },
  {
   "cell_type": "code",
   "execution_count": 1,
   "metadata": {},
   "outputs": [],
   "source": [
    "import pandas as pd\n",
    "import numpy as np\n",
    "from sklearn.model_selection import train_test_split\n",
    "from sklearn.metrics import accuracy_score, confusion_matrix, classification_report\n",
    "from sklearn.naive_bayes import MultinomialNB, ComplementNB\n",
    "from sklearn.model_selection import GridSearchCV\n",
    "from sklearn.metrics import roc_auc_score\n",
    "from sklearn.metrics import roc_curve\n",
    "import matplotlib.pyplot as plt"
   ]
  },
  {
   "cell_type": "markdown",
   "metadata": {},
   "source": [
    "### Load dataset:"
   ]
  },
  {
   "cell_type": "code",
   "execution_count": 2,
   "metadata": {},
   "outputs": [],
   "source": [
    "tweets = pd.read_csv(\"/Users/mbp/Documents/NYU/Statistical Consulting/Project/tweets_withsent.csv\")"
   ]
  },
  {
   "cell_type": "markdown",
   "metadata": {},
   "source": [
    "### Create clean datasets for modeling:"
   ]
  },
  {
   "cell_type": "code",
   "execution_count": 3,
   "metadata": {},
   "outputs": [
    {
     "data": {
      "text/plain": [
       "(5547, 2)"
      ]
     },
     "execution_count": 3,
     "metadata": {},
     "output_type": "execute_result"
    }
   ],
   "source": [
    "df_clean = pd.DataFrame({\"text\": tweets['text'], \"label\": tweets['label']})\n",
    "df_clean.shape"
   ]
  },
  {
   "cell_type": "markdown",
   "metadata": {},
   "source": [
    "### Modeling:"
   ]
  },
  {
   "cell_type": "code",
   "execution_count": 4,
   "metadata": {},
   "outputs": [],
   "source": [
    "# Create function to vectorize each tweet into separate words, using the term-freq, inverse document frequency method:\n",
    "# Function requires column with text to be labeled as 'text':\n",
    "\n",
    "def tfidfvec(data, label):\n",
    "    from sklearn.feature_extraction.text import TfidfVectorizer\n",
    "    \n",
    "    tf_vec = TfidfVectorizer(stop_words = 'english')\n",
    "    tweets_label = [row['text'] for index,row in data.iterrows() if row['label'] == label]\n",
    "    words_tweetslabel = tf_vec.fit_transform(tweets_label)\n",
    "    tdm_label = pd.DataFrame(words_tweetslabel.toarray(), columns=tf_vec.get_feature_names())\n",
    "    tdm_label['label'] = label\n",
    "    return(tdm_label)"
   ]
  },
  {
   "cell_type": "code",
   "execution_count": 5,
   "metadata": {},
   "outputs": [],
   "source": [
    "# Create function to vectorize each tweet into separate words, and create corpus of words for each class:\n",
    "# Function requires column with text to be labeled as 'text':\n",
    "\n",
    "def countvec(data, label):\n",
    "    from sklearn.feature_extraction.text import CountVectorizer\n",
    "    \n",
    "    count_vec = CountVectorizer(stop_words = 'english')\n",
    "    tweets_label = [row['text'] for index,row in data.iterrows() if row['label'] == label]\n",
    "    words_tweetslabel = count_vec.fit_transform(pd.DataFrame(tweets_label)[0].values.astype(str))\n",
    "    tdm_label = pd.DataFrame(words_tweetslabel.toarray(), columns=count_vec.get_feature_names())\n",
    "    tdm_label['label'] = label\n",
    "    return(tdm_label)"
   ]
  },
  {
   "cell_type": "code",
   "execution_count": 6,
   "metadata": {},
   "outputs": [],
   "source": [
    "# Create term-document matricies for both classes (hate and non-hate):\n",
    "tdm_hate = countvec(df_clean, 1)\n",
    "tdm_nonhate = countvec(df_clean,0)"
   ]
  },
  {
   "cell_type": "code",
   "execution_count": 7,
   "metadata": {},
   "outputs": [],
   "source": [
    "# Create data frame to be used for modeling:\n",
    "model_df = pd.concat([tdm_hate, tdm_nonhate])\n",
    "model_df = model_df.fillna(0)"
   ]
  },
  {
   "cell_type": "code",
   "execution_count": 8,
   "metadata": {},
   "outputs": [
    {
     "data": {
      "text/plain": [
       "(5104, 10753)"
      ]
     },
     "execution_count": 8,
     "metadata": {},
     "output_type": "execute_result"
    }
   ],
   "source": [
    "model_df.shape"
   ]
  },
  {
   "cell_type": "markdown",
   "metadata": {},
   "source": [
    "### Training and Validation Sets:"
   ]
  },
  {
   "cell_type": "code",
   "execution_count": 9,
   "metadata": {},
   "outputs": [],
   "source": [
    "# Create training (to be split into train-test splits), \n",
    "# and validation data (to test on completely out of sample data)"
   ]
  },
  {
   "cell_type": "code",
   "execution_count": 10,
   "metadata": {},
   "outputs": [
    {
     "name": "stdout",
     "output_type": "stream",
     "text": [
      "Train/Test Sizes :  (2800, 10752) (1200, 10752) (2800,) (1200,)\n"
     ]
    }
   ],
   "source": [
    "df_train = model_df.sample(n = 4000)\n",
    "X = df_train.drop('label', axis = 1)\n",
    "y = df_train.loc[:,'label']\n",
    "\n",
    "val = model_df.drop(df_train.index)\n",
    "X_val = val.drop('label', axis = 1)\n",
    "y_val = val.loc[:,'label']\n",
    "\n",
    "# Create train/test split\n",
    "X_train, X_test, y_train, y_test = train_test_split(X, y, test_size=0.30, stratify = y)\n",
    "print('Train/Test Sizes : ', X_train.shape, X_test.shape, y_train.shape, y_test.shape)"
   ]
  },
  {
   "cell_type": "code",
   "execution_count": 11,
   "metadata": {},
   "outputs": [],
   "source": [
    "# Use SMOTE to oversample positive (hate) cases: \n",
    "\n",
    "from imblearn.over_sampling import SMOTE\n",
    "sm = SMOTE(k_neighbors = 10)\n",
    "X_train_res, y_train_res = sm.fit_sample(X_train, y_train)"
   ]
  },
  {
   "cell_type": "markdown",
   "metadata": {},
   "source": [
    "### Logistic Regression"
   ]
  },
  {
   "cell_type": "code",
   "execution_count": 12,
   "metadata": {},
   "outputs": [
    {
     "name": "stdout",
     "output_type": "stream",
     "text": [
      "[[848 195]\n",
      " [ 47 110]]\n",
      "              precision    recall  f1-score   support\n",
      "\n",
      "           0       0.95      0.81      0.88      1043\n",
      "           1       0.36      0.70      0.48       157\n",
      "\n",
      "    accuracy                           0.80      1200\n",
      "   macro avg       0.65      0.76      0.68      1200\n",
      "weighted avg       0.87      0.80      0.82      1200\n",
      "\n"
     ]
    }
   ],
   "source": [
    "# Fit logistic regression:\n",
    "from sklearn.linear_model import LogisticRegression\n",
    "\n",
    "log_reg = LogisticRegression()\n",
    "log_reg.fit(X_train_res, y_train_res)\n",
    "log_preds = log_reg.predict(X_test)\n",
    "\n",
    "cm_log = confusion_matrix(y_test, log_preds)\n",
    "print(cm_log)\n",
    "print(classification_report(y_test, log_preds))"
   ]
  },
  {
   "cell_type": "code",
   "execution_count": 13,
   "metadata": {
    "scrolled": true
   },
   "outputs": [
    {
     "data": {
      "text/plain": [
       "0.7568381261793821"
      ]
     },
     "execution_count": 13,
     "metadata": {},
     "output_type": "execute_result"
    }
   ],
   "source": [
    "roc_auc_score(y_test, log_preds)"
   ]
  },
  {
   "cell_type": "code",
   "execution_count": 68,
   "metadata": {},
   "outputs": [
    {
     "name": "stdout",
     "output_type": "stream",
     "text": [
      "[[719 158]\n",
      " [ 11  20]]\n",
      "              precision    recall  f1-score   support\n",
      "\n",
      "           0       0.98      0.82      0.89       877\n",
      "           1       0.11      0.65      0.19        31\n",
      "\n",
      "    accuracy                           0.81       908\n",
      "   macro avg       0.55      0.73      0.54       908\n",
      "weighted avg       0.96      0.81      0.87       908\n",
      "\n"
     ]
    }
   ],
   "source": [
    "# Check performance on validation set:\n",
    "preds_val = log_reg.predict(X_val)\n",
    "cm_logval = confusion_matrix(y_val, preds_val)\n",
    "print(cm_logval)\n",
    "print(classification_report(y_val, preds_val))"
   ]
  },
  {
   "cell_type": "code",
   "execution_count": 69,
   "metadata": {},
   "outputs": [
    {
     "data": {
      "text/plain": [
       "0.7325008276014271"
      ]
     },
     "execution_count": 69,
     "metadata": {},
     "output_type": "execute_result"
    }
   ],
   "source": [
    "roc_auc_score(y_val, preds_val)"
   ]
  },
  {
   "cell_type": "markdown",
   "metadata": {},
   "source": [
    "### Multinomial NB"
   ]
  },
  {
   "cell_type": "code",
   "execution_count": 16,
   "metadata": {},
   "outputs": [
    {
     "name": "stdout",
     "output_type": "stream",
     "text": [
      "[[885 163]\n",
      " [ 56  96]]\n",
      "              precision    recall  f1-score   support\n",
      "\n",
      "           0       0.94      0.84      0.89      1048\n",
      "           1       0.37      0.63      0.47       152\n",
      "\n",
      "    accuracy                           0.82      1200\n",
      "   macro avg       0.66      0.74      0.68      1200\n",
      "weighted avg       0.87      0.82      0.84      1200\n",
      "\n"
     ]
    }
   ],
   "source": [
    "# Fit Multinomial NB with laplace correction:\n",
    "mnb1 = MultinomialNB(alpha=1)\n",
    "mnb1.fit(X_train_res,y_train_res)\n",
    "mnb_preds = mnb1.predict(X_test)\n",
    "\n",
    "cm_mnb = confusion_matrix(y_test, mnb_preds)\n",
    "print(cm_mnb)\n",
    "print(classification_report(y_test, mnb_preds))"
   ]
  },
  {
   "cell_type": "code",
   "execution_count": 17,
   "metadata": {},
   "outputs": [
    {
     "data": {
      "text/plain": [
       "0.7380222981116914"
      ]
     },
     "execution_count": 17,
     "metadata": {},
     "output_type": "execute_result"
    }
   ],
   "source": [
    "roc_auc_score(y_test, mnb_preds)"
   ]
  },
  {
   "cell_type": "code",
   "execution_count": 18,
   "metadata": {},
   "outputs": [
    {
     "data": {
      "text/plain": [
       "array([[725, 140],\n",
       "       [ 11,  14]])"
      ]
     },
     "execution_count": 18,
     "metadata": {},
     "output_type": "execute_result"
    }
   ],
   "source": [
    "mnb_val = mnb1.predict(X_val)\n",
    "confusion_matrix(y_val, mnb_val)"
   ]
  },
  {
   "cell_type": "code",
   "execution_count": 19,
   "metadata": {},
   "outputs": [
    {
     "data": {
      "text/plain": [
       "0.6990751445086705"
      ]
     },
     "execution_count": 19,
     "metadata": {},
     "output_type": "execute_result"
    }
   ],
   "source": [
    "roc_auc_score(y_val, mnb_val)"
   ]
  },
  {
   "cell_type": "markdown",
   "metadata": {},
   "source": [
    "### Complement NB"
   ]
  },
  {
   "cell_type": "code",
   "execution_count": null,
   "metadata": {},
   "outputs": [],
   "source": [
    "# Fit Complement NB with laplace correction to account for imbalanced data:\n",
    "cnb1 = ComplementNB(alpha = 1)\n",
    "cnb1.fit(X_train_res,y_train_res)\n",
    "cnb_preds = cnb1.predict(X_test)\n",
    "\n",
    "cm_cnb = confusion_matrix(y_test, cnb_preds)\n",
    "print(cm_cnb)\n",
    "print(classification_report(y_test, cnb_preds))"
   ]
  },
  {
   "cell_type": "code",
   "execution_count": null,
   "metadata": {},
   "outputs": [],
   "source": [
    "roc_auc_score(y_test, cnb_preds)"
   ]
  },
  {
   "cell_type": "markdown",
   "metadata": {},
   "source": [
    "### Grid-search Complement NB"
   ]
  },
  {
   "cell_type": "code",
   "execution_count": null,
   "metadata": {},
   "outputs": [],
   "source": [
    "# Gridsearch CV ComplementNB \n",
    "params = {'alpha': [0.01, 0.1, 0.5, 1.0, 10.0, ],\n",
    "         }\n",
    "\n",
    "cnb_grid = GridSearchCV(ComplementNB(), param_grid=params, n_jobs=-1, cv=5, verbose=5)\n",
    "cnb_grid.fit(X_train_res, y_train_res)\n",
    "cnb_gridpreds = cnb_grid.best_estimator_.predict(X_test)\n",
    "\n",
    "print('Train Accuracy : %.3f'%cnb_grid.best_estimator_.score(X_train_res, y_train_res))\n",
    "print('Test Accuracy : %.3f'%cnb_grid.best_estimator_.score(X_test, y_test))\n",
    "print('Best Accuracy Through Grid Search : %.3f'%cnb_grid.best_score_)\n",
    "print('Best Parameters : ',cnb_grid.best_params_)"
   ]
  },
  {
   "cell_type": "code",
   "execution_count": null,
   "metadata": {},
   "outputs": [],
   "source": [
    "cm_cnbgrid = confusion_matrix(y_test, cnb_gridpreds)\n",
    "print(cm_cnbgrid)\n",
    "print(classification_report(y_test, cnb_gridpreds))"
   ]
  },
  {
   "cell_type": "code",
   "execution_count": null,
   "metadata": {},
   "outputs": [],
   "source": [
    "roc_auc_score(y_test, cnb_gridpreds)"
   ]
  },
  {
   "cell_type": "markdown",
   "metadata": {},
   "source": [
    "### Grid-search Multinomial NB"
   ]
  },
  {
   "cell_type": "code",
   "execution_count": null,
   "metadata": {},
   "outputs": [],
   "source": [
    "# Gridsearch CV MultinomialNB \n",
    "\n",
    "mnb_grid = GridSearchCV(MultinomialNB(), param_grid=params, n_jobs=-1, cv=5, verbose=5)\n",
    "mnb_grid.fit(X_train_res, y_train_res)\n",
    "mnb_gridpreds = mnb_grid.best_estimator_.predict(X_test)\n",
    "\n",
    "print('Train Accuracy : %.3f'%mnb_grid.best_estimator_.score(X_train_res, y_train_res))\n",
    "print('Test Accuracy : %.3f'%mnb_grid.best_estimator_.score(X_test, y_test))\n",
    "print('Best Accuracy Through Grid Search : %.3f'%mnb_grid.best_score_)\n",
    "print('Best Parameters : ',mnb_grid.best_params_)"
   ]
  },
  {
   "cell_type": "code",
   "execution_count": null,
   "metadata": {},
   "outputs": [],
   "source": [
    "cm_mnbgrid = confusion_matrix(y_test, mnb_gridpreds)\n",
    "print(cm_mnbgrid)\n",
    "print(classification_report(y_test, mnb_gridpreds))"
   ]
  },
  {
   "cell_type": "code",
   "execution_count": null,
   "metadata": {
    "scrolled": true
   },
   "outputs": [],
   "source": [
    "roc_auc_score(y_test, mnb_gridpreds)"
   ]
  },
  {
   "cell_type": "markdown",
   "metadata": {},
   "source": [
    "### Forcing balanced dataset:"
   ]
  },
  {
   "cell_type": "code",
   "execution_count": null,
   "metadata": {},
   "outputs": [],
   "source": [
    "df1 = df_train[df_train['label']==0].sample(n=len(df_train[df_train['label']==1]))\n",
    "df2 = df_train[df_train['label']==1]"
   ]
  },
  {
   "cell_type": "code",
   "execution_count": null,
   "metadata": {},
   "outputs": [],
   "source": [
    "balanced_df = pd.concat([df1,df2])\n",
    "del df1, df2"
   ]
  },
  {
   "cell_type": "code",
   "execution_count": null,
   "metadata": {},
   "outputs": [],
   "source": [
    "# Create train/test split\n",
    "X_bal = balanced_df.drop('label', axis = 1)\n",
    "y_bal = balanced_df.loc[:,'label']\n",
    "X_train_bal, X_test_bal, y_train_bal, y_test_bal = train_test_split(X_bal, y_bal, test_size=0.30, stratify = y_bal)\n",
    "print('Train/Test Sizes : ', X_train_bal.shape, X_test_bal.shape, y_train_bal.shape, y_test_bal.shape)"
   ]
  },
  {
   "cell_type": "code",
   "execution_count": null,
   "metadata": {
    "scrolled": true
   },
   "outputs": [],
   "source": [
    "log_reg2 = LogisticRegression()\n",
    "log_reg2.fit(X_train_bal ,y_train_bal)\n",
    "log_preds2 = log_reg2.predict(X_test_bal)\n",
    "cm_log2 = confusion_matrix(y_test_bal, log_preds2)\n",
    "print(cm_log2)\n",
    "print(classification_report(y_test_bal, log_preds2))"
   ]
  },
  {
   "cell_type": "code",
   "execution_count": null,
   "metadata": {},
   "outputs": [],
   "source": [
    "roc_auc_score(y_test_bal, log_preds2)"
   ]
  },
  {
   "cell_type": "code",
   "execution_count": null,
   "metadata": {},
   "outputs": [],
   "source": [
    "logpreds2_val = log_reg2.predict(X_val)\n",
    "confusion_matrix(y_val, logpreds2_val)"
   ]
  },
  {
   "cell_type": "code",
   "execution_count": null,
   "metadata": {},
   "outputs": [],
   "source": [
    "roc_auc_score(y_val,logpreds2_val)"
   ]
  },
  {
   "cell_type": "code",
   "execution_count": null,
   "metadata": {},
   "outputs": [],
   "source": [
    "cnb_grid2 = GridSearchCV(ComplementNB(), param_grid=params, n_jobs=-1, cv=10, verbose=5)\n",
    "cnb_grid2.fit(X_train, y_train)\n",
    "cnb_gridpreds2 = cnb_grid2.best_estimator_.predict(X_test)\n",
    "\n",
    "print('Train Accuracy : %.3f'%cnb_grid2.best_estimator_.score(X_train, y_train))\n",
    "print('Test Accuracy : %.3f'%cnb_grid2.best_estimator_.score(X_test, y_test))\n",
    "print('Best Accuracy Through Grid Search : %.3f'%cnb_grid2.best_score_)\n",
    "print('Best Parameters : ',cnb_grid2.best_params_)"
   ]
  },
  {
   "cell_type": "code",
   "execution_count": null,
   "metadata": {},
   "outputs": [],
   "source": [
    "cm_cnbgrid2 = confusion_matrix(y_test, cnb_gridpreds2)\n",
    "print(cm_cnbgrid2)\n",
    "print(classification_report(y_test, cnb_gridpreds2))"
   ]
  },
  {
   "cell_type": "code",
   "execution_count": null,
   "metadata": {},
   "outputs": [],
   "source": [
    "roc_auc_score(y_test, cnb_gridpreds2)"
   ]
  },
  {
   "cell_type": "code",
   "execution_count": null,
   "metadata": {},
   "outputs": [],
   "source": [
    "# Plot AUC/ROC for Complement NB:\n",
    "\n",
    "cnb2_roc_auc = roc_auc_score(y_test, cnb_gridpreds2)\n",
    "fpr, tpr, thresholds = roc_curve(y_test, cnb_grid2.best_estimator_.predict_proba(X_test)[:,1])\n",
    "\n",
    "plt.figure()\n",
    "plt.plot(fpr, tpr, label='CNB (area = %0.2f)' % cnb2_roc_auc)\n",
    "plt.plot([0, 1], [0, 1],'r--')\n",
    "plt.xlim([0.0, 1.0])\n",
    "plt.ylim([0.0, 1.05])\n",
    "plt.xlabel('False Positive Rate')\n",
    "plt.ylabel('True Positive Rate')\n",
    "plt.title('Receiver operating characteristic')\n",
    "plt.legend(loc=\"lower right\")\n",
    "plt.show()"
   ]
  }
 ],
 "metadata": {
  "kernelspec": {
   "display_name": "Python 3",
   "language": "python",
   "name": "python3"
  },
  "language_info": {
   "codemirror_mode": {
    "name": "ipython",
    "version": 3
   },
   "file_extension": ".py",
   "mimetype": "text/x-python",
   "name": "python",
   "nbconvert_exporter": "python",
   "pygments_lexer": "ipython3",
   "version": "3.7.6"
  }
 },
 "nbformat": 4,
 "nbformat_minor": 4
}
